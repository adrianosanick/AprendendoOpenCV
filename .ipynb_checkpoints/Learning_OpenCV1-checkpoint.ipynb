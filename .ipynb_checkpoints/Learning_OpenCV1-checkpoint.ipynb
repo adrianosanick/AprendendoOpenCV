{
 "cells": [
  {
   "cell_type": "markdown",
   "metadata": {},
   "source": [
    "# Histogramas"
   ]
  },
  {
   "cell_type": "markdown",
   "metadata": {},
   "source": [
    "## Histograma escala de cinza"
   ]
  },
  {
   "cell_type": "code",
   "execution_count": null,
   "metadata": {},
   "outputs": [],
   "source": [
    "import cv2 as cv\n",
    "import numpy as np\n",
    "from matplotlib import pyplot as plt\n",
    "\n",
    "img = cv.imread(\"parte3/imagens/Cinza.jpg\",0)\n",
    "\n",
    "plt.hist(img.ravel(), 256, [0,256])         #ravel ... transforma em um vetor uma matriz de bits\n",
    "plt.show()\n"
   ]
  },
  {
   "cell_type": "code",
   "execution_count": null,
   "metadata": {},
   "outputs": [],
   "source": [
    "img = cv.imread(\"parte3/imagens/colorida.jpg\")\n",
    "\n",
    "azul,verde,vermelho=cv.split(img)\n",
    "\n",
    "plt.hist(azul.ravel(),256,[0,256])\n",
    "plt.figure()\n",
    "\n",
    "plt.hist(verde.ravel(),256,[0,256])\n",
    "plt.figure()\n",
    "\n",
    "plt.hist(vermelho.ravel(),256,[0,256])\n",
    "plt.figure()\n",
    "\n",
    "plt.show()"
   ]
  },
  {
   "cell_type": "markdown",
   "metadata": {},
   "source": [
    "## Equalização do Histograma"
   ]
  },
  {
   "cell_type": "code",
   "execution_count": null,
   "metadata": {},
   "outputs": [],
   "source": [
    "import cv2\n",
    "import numpy as np\n",
    "from matplotlib import pyplot as plt\n",
    "\n",
    "img = cv2.imread(\"parte3/imagens/einstein.jpg\",0)\n",
    "\n",
    "imgEqualizada = cv2.equalizeHist(img)\n",
    "\n",
    "cv2.imshow(\"Imagem Original\", img)\n",
    "cv2.imshow(\"Imagem Equalizada\", imgEqualizada)\n",
    "\n",
    "plt.hist(img.ravel(), 256, [0,256])\n",
    "plt.figure()\n",
    "plt.hist(imgEqualizada.ravel(), 256, [0,256])\n",
    "plt.show()\n"
   ]
  },
  {
   "cell_type": "markdown",
   "metadata": {},
   "source": [
    "## Rotação de Imagem"
   ]
  },
  {
   "cell_type": "code",
   "execution_count": null,
   "metadata": {},
   "outputs": [],
   "source": [
    "import cv2 as cv\n",
    "import numpy as np\n",
    "\n",
    "imgOriginal = cv.imread(\"parte3/imagens/einstein.jpg\",0)\n",
    "totalLinhas, totalColunas = imgOriginal.shape\n",
    "\n",
    "mat=cv.getRotationMatrix2D((totalLinhas/2,totalColunas/2),45,1)\n",
    "imgRotacinada=cv.warpAffine(imgOriginal,mat,(totalLinhas,totalColunas))\n",
    "\n",
    "cv.imshow(\"Imagem Rotacionada\",imgRotacinada)\n",
    "\n",
    "cv.waitKey(0)\n",
    "cv.destroyAllWindows()\n"
   ]
  },
  {
   "cell_type": "code",
   "execution_count": null,
   "metadata": {},
   "outputs": [],
   "source": []
  },
  {
   "cell_type": "code",
   "execution_count": null,
   "metadata": {},
   "outputs": [],
   "source": []
  }
 ],
 "metadata": {
  "kernelspec": {
   "display_name": "Python 2",
   "language": "python",
   "name": "python2"
  },
  "language_info": {
   "codemirror_mode": {
    "name": "ipython",
    "version": 2
   },
   "file_extension": ".py",
   "mimetype": "text/x-python",
   "name": "python",
   "nbconvert_exporter": "python",
   "pygments_lexer": "ipython2",
   "version": "2.7.16"
  }
 },
 "nbformat": 4,
 "nbformat_minor": 2
}
